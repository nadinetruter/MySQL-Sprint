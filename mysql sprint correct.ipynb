{
 "cells": [
  {
   "cell_type": "code",
   "execution_count": null,
   "metadata": {},
   "outputs": [],
   "source": [
    "import mysql.connector #importing mysql lib \n",
    "mydb= mysql.connector.connect(user='root', password=\"0711783663Nt\", \n",
    "port=3306,\n",
    "host=\"localhost\", \n",
    "database='testdb',\n",
    "auth_plugin='mysql_native_password' # link paths, required\n",
    ")\n",
    "print(mydb) #test connection "
   ]
  },
  {
   "cell_type": "code",
   "execution_count": null,
   "metadata": {},
   "outputs": [],
   "source": [
    "#All imports \n",
    "import mysql.connector  \n",
    "import pandas as pd\n",
    "import numpy as np\n",
    "import matplotlib.pyplot as plt\n",
    "%matplotlib inline\n",
    "\n",
    "#Connecting to mysql testdb database \n",
    "mydb= mysql.connector.connect(user='root', password=\"0711783663Nt\", \n",
    "port=3306,\n",
    "host=\"localhost\", \n",
    "database='testdb',\n",
    "auth_plugin='mysql_native_password' # link paths, required\n",
    ")\n",
    "\n",
    "#Fetching data from mysqlcorrect table \n",
    "cur = mydb.cursor()\n",
    "cur.execute(\"SELECT name,product1,product2,product3 from mysqlcorrect\")\n",
    "result=cur.fetchall()\n",
    "#chosing two headings to showcase on graph\n",
    "name=[]\n",
    "product1=[]\n",
    "\n",
    "#linking data \n",
    "for i in result:\n",
    "    \n",
    "    name.append(i[0])\n",
    "    product1.append(i[1])\n",
    "    \n",
    "#plotting the graph\n",
    "plt.subplot(1,1,1)\n",
    "plt.scatter(name,product1,marker='*',color='red')\n",
    "plt.title('My Product1 Graph')\n",
    "plt.xlabel('Name')\n",
    "plt.ylabel('Product1')\n",
    "\n",
    "#print graph\n",
    "plt.show()\n",
    "#close database table\n",
    "mydb.close()"
   ]
  },
  {
   "cell_type": "code",
   "execution_count": null,
   "metadata": {},
   "outputs": [],
   "source": []
  },
  {
   "cell_type": "code",
   "execution_count": null,
   "metadata": {},
   "outputs": [],
   "source": []
  },
  {
   "cell_type": "code",
   "execution_count": null,
   "metadata": {},
   "outputs": [],
   "source": []
  },
  {
   "cell_type": "code",
   "execution_count": null,
   "metadata": {},
   "outputs": [],
   "source": []
  },
  {
   "cell_type": "code",
   "execution_count": null,
   "metadata": {},
   "outputs": [],
   "source": []
  }
 ],
 "metadata": {
  "kernelspec": {
   "display_name": "Python 3",
   "language": "python",
   "name": "python3"
  },
  "language_info": {
   "codemirror_mode": {
    "name": "ipython",
    "version": 3
   },
   "file_extension": ".py",
   "mimetype": "text/x-python",
   "name": "python",
   "nbconvert_exporter": "python",
   "pygments_lexer": "ipython3",
   "version": "3.7.6"
  }
 },
 "nbformat": 4,
 "nbformat_minor": 4
}
